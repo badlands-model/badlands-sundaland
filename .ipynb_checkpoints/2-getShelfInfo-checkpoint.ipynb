{
 "cells": [
  {
   "cell_type": "markdown",
   "metadata": {},
   "source": [
    "From the landscape evolution simulation, we extract information related to Sunda Shelf evolution and catchment characteristics."
   ]
  },
  {
   "cell_type": "code",
   "execution_count": null,
   "metadata": {},
   "outputs": [],
   "source": [
    "import numpy as np\n",
    "import pandas as pd\n",
    "\n",
    "from scipy.spatial import cKDTree\n",
    "\n",
    "from scripts import morphoGrid as morph\n",
    "import scripts.hydroGrid as hydr"
   ]
  },
  {
   "cell_type": "markdown",
   "metadata": {},
   "source": [
    "## Load catchments parameters\n",
    "\n",
    "We first have to define the path to the `Badlands` outputs we want to analyse.\n",
    "\n",
    "We then need to provide a point coordinates (X,Y) contained in the catchment of interest. This point doesn't need to be the outlet of the catchment. \n",
    "\n",
    "For more information regarding the function uncomment the following line."
   ]
  },
  {
   "cell_type": "code",
   "execution_count": null,
   "metadata": {},
   "outputs": [],
   "source": [
    "mekongXY = [-210572,1.97157e+06]\n",
    "johoreXY = [-680818,1.90261e+06]\n",
    "siamXY = [-542085,-111463]\n",
    "sundaXY = [-231966,-501328]\n",
    "borneoXY = [775012,97446.8]\n",
    "singapXY = [-714475,73955.3]\n",
    "\n",
    "listBasin = []\n",
    "\n",
    "listBasin.append(hydr.hydroGrid(folder='lem-models/Sarr/h5', ptXY = mekongXY))\n",
    "listBasin.append(hydr.hydroGrid(folder='lem-models/Sarr/h5', ptXY = johoreXY))\n",
    "listBasin.append(hydr.hydroGrid(folder='lem-models/Sarr/h5', ptXY = siamXY))\n",
    "listBasin.append(hydr.hydroGrid(folder='lem-models/Sarr/h5', ptXY = sundaXY))\n",
    "listBasin.append(hydr.hydroGrid(folder='lem-models/Sarr/h5', ptXY = borneoXY))\n",
    "listBasin.append(hydr.hydroGrid(folder='lem-models/Sarr/h5', ptXY = singapXY))"
   ]
  },
  {
   "cell_type": "markdown",
   "metadata": {},
   "source": [
    "# Get the sundaland shelf coordinates"
   ]
  },
  {
   "cell_type": "code",
   "execution_count": null,
   "metadata": {},
   "outputs": [],
   "source": [
    "shelfXYZ = \"data/sundaland_shelf_coordinates.csv\"\n",
    "pd_shelf = pd.read_csv(\n",
    "            shelfXYZ,\n",
    "            sep=r\"\t\",\n",
    "            engine=\"c\",\n",
    "            na_filter=False,\n",
    "            dtype=np.float,\n",
    "            low_memory=False,\n",
    "        )\n",
    "\n",
    "shelfXY = pd_shelf.values[:, 0:2]\n",
    "shelfZ = pd_shelf.values[:, 2]\n",
    "tree = cKDTree(shelfXY)"
   ]
  },
  {
   "cell_type": "markdown",
   "metadata": {},
   "source": [
    "# Read a given badlands time step"
   ]
  },
  {
   "cell_type": "code",
   "execution_count": null,
   "metadata": {},
   "outputs": [],
   "source": [
    "badland_topo = morph.morphoGrid(folder='lem-models/Sarr/h5', bbox = None, dx=5000)\n",
    "badland_topo.loadHDF5(timestep=1000)"
   ]
  },
  {
   "cell_type": "code",
   "execution_count": null,
   "metadata": {},
   "outputs": [],
   "source": [
    "regX = badland_topo.x.flatten()\n",
    "regY = badland_topo.y.flatten()\n",
    "regXY = np.vstack([regX, regY]).T"
   ]
  },
  {
   "cell_type": "markdown",
   "metadata": {},
   "source": [
    "## Define sundaland shelf values"
   ]
  },
  {
   "cell_type": "code",
   "execution_count": null,
   "metadata": {},
   "outputs": [],
   "source": [
    "# This only needs to be done once!\n",
    "dists, inds = tree.query(regXY, k=1)\n",
    "shelfIDs = np.where(dists<=5500)[0]\n",
    "shelfPtsNb = len(shelfIDs)"
   ]
  },
  {
   "cell_type": "markdown",
   "metadata": {},
   "source": [
    "# Looping over timesteps"
   ]
  },
  {
   "cell_type": "code",
   "execution_count": null,
   "metadata": {},
   "outputs": [],
   "source": [
    "mean_elevation = []\n",
    "max_elevation = []\n",
    "std_elevation = []\n",
    "\n",
    "cumed_max = []\n",
    "cumed_min = []\n",
    "cumed_mean = []\n",
    "cumed_std = []\n",
    "\n",
    "percent = []\n",
    "\n",
    "mekongArea = []\n",
    "mekongStream = []\n",
    "mekongX = []\n",
    "mekongY = []\n",
    "\n",
    "johoreArea = []\n",
    "johoreStream = []\n",
    "johoreX = []\n",
    "johoreY = []\n",
    "\n",
    "siamArea = []\n",
    "siamStream = []\n",
    "siamX = []\n",
    "siamY = []\n",
    "\n",
    "sundaArea = []\n",
    "sundaStream = []\n",
    "sundaX = []\n",
    "sundaY = []\n",
    "\n",
    "borneoArea = []\n",
    "borneoStream = []\n",
    "borneoX = []\n",
    "borneoY = []\n",
    "\n",
    "singapArea = []\n",
    "singapStream = []\n",
    "singapX = []\n",
    "singapY = []\n",
    "\n",
    "for step in range(500,1001):\n",
    "    \n",
    "    if step % 50 == 0:\n",
    "        print('Processing step:',step)\n",
    "        \n",
    "    badland_topo = morph.morphoGrid(folder='lem-models/Sarr/h5', bbox = None, dx=5000)\n",
    "    badland_topo.loadHDF5(timestep=step)\n",
    "    \n",
    "    zz = badland_topo.z.flatten()[shelfIDs]\n",
    "    cumed = badland_topo.cumchange.flatten()[shelfIDs]\n",
    "    \n",
    "    \n",
    "    aboveIDs = np.where(zz>badland_topo.sl)[0]\n",
    "    \n",
    "    elev = zz[aboveIDs] - badland_topo.sl\n",
    "    percAerial = len(aboveIDs)/shelfPtsNb\n",
    "    percent.append(percAerial)\n",
    "    \n",
    "    # Get elevation information\n",
    "    mean_elevation.append(np.mean(elev))\n",
    "    max_elevation.append(np.max(elev))\n",
    "    std_elevation.append(np.std(elev))\n",
    "    \n",
    "    # Get erosion information\n",
    "    cumed_max.append(np.max(cumed)) \n",
    "    cumed_min.append(np.min(cumed)) \n",
    "    cumed_mean.append(np.mean(cumed))\n",
    "    cumed_std.append(np.std(cumed))\n",
    "    \n",
    "    # Basin evolution\n",
    "    for k in range(len(listBasin)) : \n",
    "\n",
    "        listBasin[k].getCatchment(timestep=step)\n",
    "        listBasin[k].extractMainstream()\n",
    "        listBasin[k].computeParams(kd=4.e-2, kc=4.e-7, m=0.5, n=1., num=100)\n",
    "\n",
    "        if k == 0:\n",
    "            mekongArea.append(listBasin[k].area)\n",
    "            mekongStream.append(listBasin[k].streamLght[-1])\n",
    "            mekongX.append(listBasin[k].streamX[0])\n",
    "            mekongY.append(listBasin[k].streamY[0])\n",
    "        if k == 1:\n",
    "            johoreArea.append(listBasin[k].area)\n",
    "            johoreStream.append(listBasin[k].streamLght[-1])\n",
    "            johoreX.append(listBasin[k].streamX[0])\n",
    "            johoreY.append(listBasin[k].streamY[0])\n",
    "        if k == 2:\n",
    "            siamArea.append(listBasin[k].area)\n",
    "            siamStream.append(listBasin[k].streamLght[-1])\n",
    "            siamX.append(listBasin[k].streamX[0])\n",
    "            siamY.append(listBasin[k].streamY[0])\n",
    "        if k == 3:\n",
    "            sundaArea.append(listBasin[k].area)\n",
    "            sundaStream.append(listBasin[k].streamLght[-1])\n",
    "            sundaX.append(listBasin[k].streamX[0])\n",
    "            sundaY.append(listBasin[k].streamY[0])\n",
    "        if k == 4:\n",
    "            borneoArea.append(listBasin[k].area)\n",
    "            borneoStream.append(listBasin[k].streamLght[-1])\n",
    "            borneoX.append(listBasin[k].streamX[0])\n",
    "            borneoY.append(listBasin[k].streamY[0])\n",
    "        if k == 5:\n",
    "            singapArea.append(listBasin[k].area)\n",
    "            singapStream.append(listBasin[k].streamLght[-1])\n",
    "            singapX.append(listBasin[k].streamX[0])\n",
    "            singapY.append(listBasin[k].streamY[0])"
   ]
  },
  {
   "cell_type": "code",
   "execution_count": null,
   "metadata": {},
   "outputs": [],
   "source": [
    "time = np.arange(len(max_elevation))\n",
    "\n",
    "df = pd.DataFrame(\n",
    "    {\n",
    "        \"time\": time-len(max_elevation),\n",
    "        \"elev_mean\": mean_elevation,\n",
    "        \"elev_max\": max_elevation,\n",
    "        \"elev_std\": std_elevation,\n",
    "        \"cumed_mean\": cumed_mean,\n",
    "        \"cumed_max\": cumed_max,\n",
    "        \"cumed_min\": cumed_min,\n",
    "        \"cumed_std\": cumed_std,\n",
    "        \"perc_exposed\":percent,\n",
    "        \n",
    "    }\n",
    ")\n",
    "\n",
    "df.to_csv(\n",
    "    \"shelfInfo/sarr_shelf_info.csv\",\n",
    "    columns=[\"time\", \"elev_mean\", \"elev_max\", \"elev_std\",\n",
    "            \"cumed_mean\", \"cumed_max\", \"cumed_min\", \n",
    "             \"cumed_std\", \"perc_exposed\"],\n",
    "    sep=\",\",\n",
    "    index=False,\n",
    ")"
   ]
  },
  {
   "cell_type": "code",
   "execution_count": null,
   "metadata": {},
   "outputs": [],
   "source": [
    "df = pd.DataFrame(\n",
    "    {\n",
    "        \"borneoArea\": borneoArea,\n",
    "        \"borneoStream\": borneoStream,\n",
    "        \"borneoX\": borneoX,\n",
    "        \"borneoY\": borneoY,\n",
    "        \"mekongArea\": mekongArea,\n",
    "        \"mekongStream\": mekongStream,\n",
    "        \"mekongX\": mekongX,\n",
    "        \"mekongY\": mekongY,\n",
    "        \"johoreArea\": johoreArea,\n",
    "        \"johoreStream\": johoreStream,\n",
    "        \"johoreX\": johoreX,\n",
    "        \"johoreY\": johoreY,\n",
    "        \"siamArea\": siamArea,\n",
    "        \"siamStream\": siamStream,\n",
    "        \"siamX\": siamX,\n",
    "        \"siamY\": siamY,\n",
    "        \"singapArea\": singapArea,\n",
    "        \"singapStream\": singapStream,\n",
    "        \"singapX\": singapX,\n",
    "        \"singapY\": singapY,\n",
    "        \"sundaArea\": sundaArea,\n",
    "        \"sundaStream\": sundaStream,\n",
    "        \"sundaX\": sundaX,\n",
    "        \"sundaY\": sundaY,\n",
    "    }\n",
    ")\n",
    "\n",
    "df.to_csv(\n",
    "    \"shelfInfo/sarr_basins_info.csv\",\n",
    "    columns=[\"borneoArea\", \"borneoStream\", \"borneoX\", \"borneoY\",\n",
    "             \"mekongArea\", \"mekongStream\", \"mekongX\", \"mekongY\",\n",
    "             \"johoreArea\", \"johoreStream\", \"johoreX\", \"johoreY\",\n",
    "             \"siamArea\", \"siamStream\", \"siamX\", \"siamY\",\n",
    "             \"singapArea\", \"singapStream\", \"singapX\", \"singapY\",\n",
    "             \"sundaArea\", \"sundaStream\", \"sundaX\", \"sundaY\",\n",
    "            ],\n",
    "    sep=\",\",\n",
    "    index=False,\n",
    ")"
   ]
  },
  {
   "cell_type": "code",
   "execution_count": null,
   "metadata": {},
   "outputs": [],
   "source": []
  },
  {
   "cell_type": "code",
   "execution_count": null,
   "metadata": {},
   "outputs": [],
   "source": []
  }
 ],
 "metadata": {
  "kernelspec": {
   "display_name": "Python 3",
   "language": "python",
   "name": "python3"
  },
  "language_info": {
   "codemirror_mode": {
    "name": "ipython",
    "version": 3
   },
   "file_extension": ".py",
   "mimetype": "text/x-python",
   "name": "python",
   "nbconvert_exporter": "python",
   "pygments_lexer": "ipython3",
   "version": "3.7.3"
  }
 },
 "nbformat": 4,
 "nbformat_minor": 2
}
