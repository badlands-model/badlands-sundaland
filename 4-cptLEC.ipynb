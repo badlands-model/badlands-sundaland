{
 "cells": [
  {
   "cell_type": "code",
   "execution_count": null,
   "metadata": {},
   "outputs": [],
   "source": [
    "from scripts import morphoGrid as morph\n",
    "from scipy.spatial import cKDTree\n",
    "\n",
    "import meshio"
   ]
  },
  {
   "cell_type": "markdown",
   "metadata": {},
   "source": [
    "# Build a VTK mesh from Badlands output"
   ]
  },
  {
   "cell_type": "code",
   "execution_count": null,
   "metadata": {},
   "outputs": [],
   "source": [
    "step = 700\n",
    "dx = 5000.\n",
    "folder = 'lem-models/Sarr/h5'\n",
    "\n",
    "badland_topo = morph.morphoGrid(folder=folder, bbox = None, dx=dx)\n",
    "badland_topo.loadHDF5(timestep=step)\n",
    "height = badland_topo.z.shape[0]\n",
    "width = badland_topo.z.shape[1]\n",
    "minx = badland_topo.x.min()\n",
    "maxy = badland_topo.y.max()\n",
    "sealevel = badland_topo.sl\n",
    "cells = badland_topo.cells-1\n",
    "area = badland_topo.area\n",
    "vertices = badland_topo.vertices\n",
    "fa = badland_topo.fa\n",
    "ed = badland_topo.ed\n",
    "\n",
    "vertices[:,-1] -= sealevel"
   ]
  },
  {
   "cell_type": "code",
   "execution_count": null,
   "metadata": {},
   "outputs": [],
   "source": [
    "vtkfile = 'vtk/Sarr'+str(step)+'.vtk'\n",
    "vis_mesh = meshio.Mesh(vertices, {'triangle': cells}, \n",
    "                                   point_data={\"Z\":vertices[:,-1], \"ED\":ed, \n",
    "                                               'FA':fa})\n",
    "meshio.write(vtkfile, vis_mesh)"
   ]
  },
  {
   "cell_type": "markdown",
   "metadata": {},
   "source": [
    "# Compute LEC\n",
    "\n",
    "Create a vtk file with LEC computed (`vtk/Sarr700.cost.vtk`)"
   ]
  },
  {
   "cell_type": "code",
   "execution_count": null,
   "metadata": {
    "scrolled": true
   },
   "outputs": [],
   "source": [
    "!mpirun -n 8  python3 -m mpi4py.futures  scripts/mpi_sunda.py -i $vtkfile"
   ]
  },
  {
   "cell_type": "code",
   "execution_count": null,
   "metadata": {},
   "outputs": [],
   "source": []
  }
 ],
 "metadata": {
  "kernelspec": {
   "display_name": "Python 3",
   "language": "python",
   "name": "python3"
  },
  "language_info": {
   "codemirror_mode": {
    "name": "ipython",
    "version": 3
   },
   "file_extension": ".py",
   "mimetype": "text/x-python",
   "name": "python",
   "nbconvert_exporter": "python",
   "pygments_lexer": "ipython3",
   "version": "3.7.3"
  }
 },
 "nbformat": 4,
 "nbformat_minor": 4
}
