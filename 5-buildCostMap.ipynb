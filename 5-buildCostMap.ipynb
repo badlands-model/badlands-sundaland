{
 "cells": [
  {
   "cell_type": "code",
   "execution_count": null,
   "metadata": {},
   "outputs": [],
   "source": [
    "import numpy as np\n",
    "from io import StringIO\n",
    "\n",
    "from scripts import morphoGrid as morph\n",
    "from scipy.spatial import cKDTree\n",
    "\n",
    "import meshio"
   ]
  },
  {
   "cell_type": "markdown",
   "metadata": {},
   "source": [
    "To quantify the impact of geomorphology on the evolution of terrestrial biota, we extract local physiographic resistance to species displacement \n",
    "\n",
    "# LEC & landscape parameters\n",
    "\n",
    "We first start by reading the landscape parameters from the **badlands** run."
   ]
  },
  {
   "cell_type": "code",
   "execution_count": null,
   "metadata": {},
   "outputs": [],
   "source": [
    "step = 700\n",
    "dx = 5000.\n",
    "folder = 'lem-models/Sarr/h5'"
   ]
  },
  {
   "cell_type": "code",
   "execution_count": null,
   "metadata": {},
   "outputs": [],
   "source": [
    "badland_topo = morph.morphoGrid(folder=folder, bbox = None, dx=dx)\n",
    "badland_topo.loadHDF5(timestep=step)\n",
    "badland_topo.getParams()\n",
    "sealevel = badland_topo.sl\n",
    "cells = badland_topo.cells-1\n",
    "vertices = badland_topo.vertices\n",
    "slope = badland_topo.grad\n",
    "\n",
    "vertices[:,-1] -= sealevel\n",
    "\n",
    "# Regular grid coordinates\n",
    "xyi = np.dstack([badland_topo.x.flatten(), badland_topo.y.flatten()])[0]\n",
    "\n",
    "# TIN grid coordinates\n",
    "XY = vertices[:,:2] \n",
    "tin_tree = cKDTree(XY)\n",
    "\n",
    "# On the uniform grid\n",
    "distances, indices = tin_tree.query(xyi, k=3)\n",
    "\n",
    "onIDs = np.where(distances[:, 0] == 0)[0]\n",
    "inIDs = np.where(distances[:, 0] > 0)[0]\n",
    "\n",
    "weights = np.ones(distances.shape)\n",
    "weights[inIDs,:] = 1.0 / distances[inIDs,:] ** 2\n",
    "\n",
    "denum = 1.0 / np.sum(weights, axis=1)"
   ]
  },
  {
   "cell_type": "markdown",
   "metadata": {},
   "source": [
    "The landscape elevational connectivity has been calculated in the previous notebook. We will read the `VTK` file that was created:"
   ]
  },
  {
   "cell_type": "code",
   "execution_count": null,
   "metadata": {},
   "outputs": [],
   "source": [
    "costmesh = 'vtk/Sarr700.cost.vtk'\n",
    "\n",
    "# Get costs \n",
    "mesh = meshio.read(costmesh)\n",
    "\n",
    "elev = mesh.point_data['Z']\n",
    "lec = mesh.point_data['cost']\n",
    "lec = 1.0-lec/lec.max()\n",
    "\n",
    "ED = mesh.point_data['ED']\n",
    "FA = mesh.point_data['FA']"
   ]
  },
  {
   "cell_type": "markdown",
   "metadata": {},
   "source": [
    "## Additional geomorphic costs\n",
    "\n",
    "The proposed cost surfaces are designed to represent long-term suitability of the landscape to movement of non-volant terrestrial species and combine the following three natural landscape features: \n",
    " + (1) the normalized landscape elevational connectivity metric \n",
    " + (2) the distance to main river systems and \n",
    " + (3) the average local slope. \n",
    " \n",
    " \n",
    "We also consider that hydrological connectivity of aquatic habitats can either enhances the movement of terrestrial organisms (corridors) or hamper it (barriers to movement). We also assume that marine intrusion acts as barrier as well. \n",
    "\n",
    "\n",
    "To keep the analysis simple, costs related to each feature are equally weighted with categorical values ranging from 0 to 20. \n",
    "\n",
    "### Distance to river costs"
   ]
  },
  {
   "cell_type": "code",
   "execution_count": null,
   "metadata": {},
   "outputs": [],
   "source": [
    "# set a limit on flow accumulation to only consider large rivers and \n",
    "# use kdtree to find closest points to these rivers on the mesh\n",
    "logFA = np.log10(FA) / 13. # 13 is coming from logFA.max() at step 430 when river discharge is maximum\n",
    "riverIDs = np.where(logFA>0.7)[0]\n",
    "\n",
    "rtin_tree = cKDTree(XY[riverIDs,:]) \n",
    "dist, ids = rtin_tree.query(XY, k=1)\n",
    "dist[elev<0] = 1.e18 # marine points set to large distance\n",
    "\n",
    "# Define categorical distances cost based on user requirement\n",
    "landIDs = np.where(elev>=0)[0]\n",
    "\n",
    "# Barrier\n",
    "river_barrier = np.zeros(len(dist))\n",
    "river_barrier[elev<0] = 20.\n",
    "river_barrier[landIDs] = 0.\n",
    "river_barrier[dist<50000] = 1.\n",
    "river_barrier[dist<35000] = 2.\n",
    "river_barrier[dist<25000] = 3.\n",
    "river_barrier[dist<20000] = 5.\n",
    "river_barrier[dist<15000] = 7.\n",
    "river_barrier[dist<10000] = 9.\n",
    "river_barrier[dist<7000] = 11.\n",
    "river_barrier[dist<5000] = 14.\n",
    "river_barrier[dist<1000] = 20.\n",
    "\n",
    "# Corridor\n",
    "river_corridor = np.zeros(len(dist))\n",
    "river_corridor[elev<0] = 20.\n",
    "river_corridor[landIDs] = 20.\n",
    "river_corridor[dist<50000] = 14.\n",
    "river_corridor[dist<35000] = 11.\n",
    "river_corridor[dist<25000] = 9.\n",
    "river_corridor[dist<20000] = 7.\n",
    "river_corridor[dist<15000] = 5.\n",
    "river_corridor[dist<10000] = 3.\n",
    "river_corridor[dist<7000] = 2.\n",
    "river_corridor[dist<5000] = 1.\n",
    "river_corridor[dist<1000] = 0."
   ]
  },
  {
   "cell_type": "markdown",
   "metadata": {},
   "source": [
    "### Elevation related costs"
   ]
  },
  {
   "cell_type": "code",
   "execution_count": null,
   "metadata": {},
   "outputs": [],
   "source": [
    "# Define categorical distances cost based on user requirement\n",
    "landIDs = np.where(elev>=0)[0]\n",
    "cost_elev = np.zeros(len(dist))\n",
    "\n",
    "cost_elev[elev<0] = 20.\n",
    "cost_elev[landIDs] = 20.\n",
    "cost_elev[elev<1000] = 15.\n",
    "cost_elev[elev<250] = 5.\n",
    "cost_elev[elev<100] = 0."
   ]
  },
  {
   "cell_type": "markdown",
   "metadata": {},
   "source": [
    "### Slope related costs"
   ]
  },
  {
   "cell_type": "code",
   "execution_count": null,
   "metadata": {},
   "outputs": [],
   "source": [
    "# Define categorical slope cost based on user requirement\n",
    "fslope = slope.flatten()\n",
    "\n",
    "cost_slope = np.zeros(len(fslope))+20.\n",
    "cost_slope[fslope<0.01] = 16\n",
    "cost_slope[fslope<0.0075] = 12\n",
    "cost_slope[fslope<0.005] = 10\n",
    "cost_slope[fslope<0.0025] = 8\n",
    "cost_slope[fslope<0.001] = 6\n",
    "cost_slope[fslope<0.0005] = 2\n",
    "cost_slope[fslope<0.0001] = 1\n",
    "\n",
    "cost_slope = np.reshape(cost_slope, badland_topo.x.shape)"
   ]
  },
  {
   "cell_type": "markdown",
   "metadata": {},
   "source": [
    "The resistance maps are then combined to produce regular cost surfaces grids (5 km side squared cells), ranked from high cost (>30) that are impermeable to species movement (*e.g.*, ocean, remote/close from/to river drainage network, steep local slope and low elevational connectivity) to low cost (<10) when permeable to movement (*e.g.*, close/far to rivers, low local slope and high elevational connectivity)."
   ]
  },
  {
   "cell_type": "code",
   "execution_count": null,
   "metadata": {},
   "outputs": [],
   "source": [
    "# On the mesh\n",
    "corridorCost = lec*20. + river_corridor + cost_elev\n",
    "barrierCost = lec*20. + river_barrier + cost_elev\n",
    "\n",
    "corridorCost_reg = np.sum(weights * corridorCost[indices], axis=1) * denum\n",
    "barrierCost_reg = np.sum(weights * barrierCost[indices], axis=1) * denum\n",
    "if len(onIDs) > 0:\n",
    "    corridorCost_reg[onIDs] = corridorCost[indices[onIDs, 0]]\n",
    "    barrierCost_reg[onIDs] = barrierCost[indices[onIDs, 0]]\n",
    "    \n",
    "\n",
    "corridorCost_reg = np.reshape(corridorCost_reg, badland_topo.x.shape)\n",
    "corridorCost_reg += cost_slope\n",
    "\n",
    "barrierCost_reg = np.reshape(barrierCost_reg, badland_topo.x.shape)\n",
    "barrierCost_reg += cost_slope\n",
    "\n",
    "corridorCost_reg = corridorCost_reg + 1\n",
    "np.place(corridorCost_reg, badland_topo.z < sealevel, -9999)\n",
    "\n",
    "barrierCost_reg = barrierCost_reg + 1\n",
    "np.place(barrierCost_reg, badland_topo.z < sealevel, -9999)"
   ]
  },
  {
   "cell_type": "markdown",
   "metadata": {},
   "source": [
    "We then store the cost surfaces as `VTK` files that can be visualised with Paraview."
   ]
  },
  {
   "cell_type": "code",
   "execution_count": null,
   "metadata": {},
   "outputs": [],
   "source": [
    "vtkfile = 'vtk/Sarr700.corridor.cost.vtk'\n",
    "vis_mesh = meshio.Mesh(vertices, {'triangle': cells}, \n",
    "                       point_data={\"Z\":elev, \"ED\":ED, \n",
    "                       \"costLEC\":lec*20, 'FA':logFA, 'costRiver':river_corridor,\n",
    "                       \"costElev\":cost_elev,\"all\":corridorCost,\n",
    "                      })\n",
    "meshio.write(vtkfile, vis_mesh)"
   ]
  },
  {
   "cell_type": "code",
   "execution_count": null,
   "metadata": {},
   "outputs": [],
   "source": [
    "vtkfile = 'vtk/Sarr700.barrier.cost.vtk'\n",
    "vis_mesh = meshio.Mesh(vertices, {'triangle': cells}, \n",
    "                       point_data={\"Z\":elev, \"ED\":ED, \n",
    "                       \"costLEC\":lec*20, 'FA':logFA, 'costRiver':river_barrier,\n",
    "                       \"costElev\":cost_elev,\"all\":barrierCost,\n",
    "                      })\n",
    "meshio.write(vtkfile, vis_mesh)"
   ]
  },
  {
   "cell_type": "markdown",
   "metadata": {},
   "source": [
    "## Input for circuitscape\n",
    "\n",
    "We used circuit theory to evaluate the roles of geomorphology on past movements across the exposed Sunda Shelf over the last million years and extract preferential pathways over time. \n",
    "\n",
    "We chose [Circuitscape](https://circuitscape.org) to model multiple pathways. The software uses random walk and electric current running through a circuit. Electric current runs across our cost surfaces between predefined source points. We position these points across Sundaland (approximately 250 km apart) chosen along the outer margin (approx. 100 m above sea-level) of the maximum fully submerged shelf coastline."
   ]
  },
  {
   "cell_type": "code",
   "execution_count": null,
   "metadata": {},
   "outputs": [],
   "source": [
    "costMap1 = 'cost/Sarr_'+str(step)+'_corridor.asc'\n",
    "costMap2 = 'cost/Sarr_'+str(step)+'_barrier.asc'\n",
    "\n",
    "\n",
    "cost1 = np.flipud(corridorCost_reg.astype(dtype=int))\n",
    "cost2 = np.flipud(barrierCost_reg.astype(dtype=int))\n",
    "\n",
    "f1 = StringIO()\n",
    "np.savetxt(f1, cost1, fmt='%.3f')\n",
    "f1.seek(0)\n",
    "fs1 = f1.read().replace('.000', '', -1)\n",
    "f1.close()\n",
    "\n",
    "f2 = StringIO()\n",
    "np.savetxt(f2, cost2, fmt='%.3f')\n",
    "f2.seek(0)\n",
    "fs2 = f2.read().replace('.000', '', -1)\n",
    "f2.close()\n",
    "\n",
    "f1 = open(costMap1, 'w')\n",
    "f1.write(\"ncols \" + str(cost1.shape[1]) + \"\\n\")\n",
    "f1.write(\"nrows \" + str(cost1.shape[0]) + \"\\n\")\n",
    "f1.write(\"xllcorner \" + str(0) + \"\\n\")\n",
    "f1.write(\"yllcorner \" + str(0) + \"\\n\")\n",
    "f1.write(\"cellsize \" + str(5000) + \"\\n\")\n",
    "f1.write(\"NODATA_value \" + str(-9999) + \"\\n\")\n",
    "f1.write(fs1)\n",
    "f1.close()\n",
    "\n",
    "\n",
    "f2 = open(costMap2, 'w')\n",
    "f2.write(\"ncols \" + str(cost1.shape[1]) + \"\\n\")\n",
    "f2.write(\"nrows \" + str(cost1.shape[0]) + \"\\n\")\n",
    "f2.write(\"xllcorner \" + str(0) + \"\\n\")\n",
    "f2.write(\"yllcorner \" + str(0) + \"\\n\")\n",
    "f2.write(\"cellsize \" + str(5000) + \"\\n\")\n",
    "f2.write(\"NODATA_value \" + str(-9999) + \"\\n\")\n",
    "f2.write(fs1)\n",
    "f2.close()"
   ]
  },
  {
   "cell_type": "markdown",
   "metadata": {},
   "source": [
    "These maps are then used in **Circuitscape** using the settings presented in the figure below:"
   ]
  },
  {
   "cell_type": "markdown",
   "metadata": {},
   "source": [
    "<div align=\"center\">\n",
    "    <img width=1000 src=\"img/Circuitscape.png?raw=true\" alt=\"circuitscape setting\" title=\"circuitscape setting\"</img>\n",
    "</div>"
   ]
  },
  {
   "cell_type": "code",
   "execution_count": null,
   "metadata": {},
   "outputs": [],
   "source": []
  }
 ],
 "metadata": {
  "kernelspec": {
   "display_name": "Python 3",
   "language": "python",
   "name": "python3"
  },
  "language_info": {
   "codemirror_mode": {
    "name": "ipython",
    "version": 3
   },
   "file_extension": ".py",
   "mimetype": "text/x-python",
   "name": "python",
   "nbconvert_exporter": "python",
   "pygments_lexer": "ipython3",
   "version": "3.7.3"
  }
 },
 "nbformat": 4,
 "nbformat_minor": 4
}
