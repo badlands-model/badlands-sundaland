{
 "cells": [
  {
   "cell_type": "markdown",
   "metadata": {},
   "source": [
    "## Running the landscape evolution model\n",
    "\n",
    "Based on the input dataset (`lem-models`), we first run the landscape evolution model.\n",
    "\n",
    "### Landscape evolution model input\n",
    "\n",
    "External forcings are defined in specific folders in the `lem-models` repository:\n",
    "\n",
    "+ `Rainfall`: we relied on paleo-precipitation maps obtained from PaleoClim at 2.5 arc minutes grids from the Pleistocene to Pliocene.\n",
    "+ `Tectonic`: regional variations in tectonic regime derived from number of calibration points. \n",
    "+ `Sea-level`: two sea-level curves are provided from Bintanja & van de Wal (2008) and Spratt & Lisiecki (2016).\n",
    "+ `Topography`: three paleo-topographic grids defined by applying the tectonic rates backwards to calculate the total change in topography for the 1 Myr interval using today topography.  \n",
    "\n",
    "\n",
    "\n",
    "<div align=\"center\">\n",
    "    <img width=800 src=\"https://github.com/badlands-model/badlands/blob/master/badlands/docs/img/view.jpg?raw=true\" alt=\"Badlands model\" title=\"Badlands model\"</img>\n",
    "</div>\n",
    "\n",
    "\n",
    "You will need to specify the input file (`XML`) that you want to run:"
   ]
  },
  {
   "cell_type": "code",
   "execution_count": null,
   "metadata": {},
   "outputs": [],
   "source": [
    "XML_input = 'lem-models/Tecto-Sarr-uniform-tectonic.xml'"
   ]
  },
  {
   "cell_type": "markdown",
   "metadata": {},
   "source": [
    "The following cell will run the model. For more information about the model (**badlands**) users are invited to look at the online documentation:\n",
    "\n",
    "**https://badlands.readthedocs.io/**"
   ]
  },
  {
   "cell_type": "code",
   "execution_count": null,
   "metadata": {
    "scrolled": true
   },
   "outputs": [],
   "source": [
    "from badlands.model import Model as badlandsModel\n",
    "\n",
    "# Initialise model\n",
    "model = badlandsModel()\n",
    "\n",
    "# Define the XmL input file\n",
    "model.load_xml(XML_input)\n",
    "\n",
    "# Run up to present day\n",
    "model.run_to_time(0.0)"
   ]
  },
  {
   "cell_type": "markdown",
   "metadata": {},
   "source": [
    "After running the model you will find an output folder containing the landscape evolution over time as `hdf5` file. The easiest way to visualise the results consists in using [Paraview](https://www.paraview.org).\n",
    "\n",
    "The output will allow you to visualise the temporal evolution of drainage evolution, erosion/deposition and landscape dynamic.\n",
    "\n",
    "<div align=\"center\">\n",
    "    <img width=1000 src=\"img/output-sunda.png?raw=true\" alt=\"Badlands output\" title=\"Badlands output\"</img>\n",
    "</div>\n",
    "\n",
    "\n"
   ]
  },
  {
   "cell_type": "code",
   "execution_count": 3,
   "metadata": {},
   "outputs": [
    {
     "data": {
      "image/jpeg": "[encoded data removed]",
      "text/html": [
       "\n",
       "        <iframe\n",
       "            width=\"1000\"\n",
       "            height=\"600\"\n",
       "            src=\"https://www.youtube.com/embed/ZewcK4ni0UE\"\n",
       "            frameborder=\"0\"\n",
       "            allowfullscreen\n",
       "        ></iframe>\n",
       "        "
      ],
      "text/plain": [
       "<IPython.lib.display.YouTubeVideo at 0x7f601449df60>"
      ]
     },
     "execution_count": 3,
     "metadata": {},
     "output_type": "execute_result"
    }
   ],
   "source": [
    "from IPython.display import Audio,Image, YouTubeVideo\n",
    "id='ZewcK4ni0UE'\n",
    "YouTubeVideo(id=id,width=1000,height=600)"
   ]
  },
  {
   "cell_type": "code",
   "execution_count": null,
   "metadata": {},
   "outputs": [],
   "source": []
  }
 ],
 "metadata": {
  "kernelspec": {
   "display_name": "Python 3",
   "language": "python",
   "name": "python3"
  },
  "language_info": {
   "codemirror_mode": {
    "name": "ipython",
    "version": 3
   },
   "file_extension": ".py",
   "mimetype": "text/x-python",
   "name": "python",
   "nbconvert_exporter": "python",
   "pygments_lexer": "ipython3",
   "version": "3.7.3"
  }
 },
 "nbformat": 4,
 "nbformat_minor": 1
}
